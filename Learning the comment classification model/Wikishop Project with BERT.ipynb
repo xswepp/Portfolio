{
 "cells": [
  {
   "cell_type": "markdown",
   "metadata": {},
   "source": [
    "# Проект для «Викишоп» с BERT\n",
    "\n",
    "**Заказчик** — Интернет-магазин «Викишоп».\n",
    "\n",
    "**Цель работы:** создание системы для определения эмоциональной оценки коментариев.\n",
    "\n",
    "**Дано:** Данные представленны таблицей с разметкой о токсичности правок. Столбец `'text'` в нём содержит текст комментария, а `'toxic'` — целевой признак.\n",
    "\n",
    "**Этапы выполнения проекта:**\n",
    "1. Загрузка и подготовка данных.\n",
    "2. Обучение моделей.\n",
    "3. Написание выводов."
   ]
  },
  {
   "cell_type": "markdown",
   "metadata": {},
   "source": [
    "## Загрузка библиотек и данных"
   ]
  },
  {
   "cell_type": "code",
   "execution_count": 2,
   "metadata": {},
   "outputs": [
    {
     "data": {
      "text/html": [
       "<style>.container { width:90% !important; }</style>"
      ],
      "text/plain": [
       "<IPython.core.display.HTML object>"
      ]
     },
     "metadata": {},
     "output_type": "display_data"
    }
   ],
   "source": [
    "# Настройка широкоформатного режима Jupyter Notebook\n",
    "from IPython.display import display, HTML\n",
    "display(HTML(\"<style>.container { width:90% !important; }</style>\"))"
   ]
  },
  {
   "cell_type": "code",
   "execution_count": 3,
   "metadata": {},
   "outputs": [
    {
     "name": "stderr",
     "output_type": "stream",
     "text": [
      "[nltk_data] Downloading package stopwords to /home/jovyan/nltk_data...\n",
      "[nltk_data]   Package stopwords is already up-to-date!\n",
      "[nltk_data] Downloading package averaged_perceptron_tagger to\n",
      "[nltk_data]     /home/jovyan/nltk_data...\n",
      "[nltk_data]   Package averaged_perceptron_tagger is already up-to-\n",
      "[nltk_data]       date!\n"
     ]
    }
   ],
   "source": [
    "import pandas as pd\n",
    "import numpy as np\n",
    "import seaborn as sns\n",
    "import matplotlib.pyplot as plt\n",
    "import matplotlib.gridspec as gridspec\n",
    "import requests\n",
    "import optuna\n",
    "import os\n",
    "import re\n",
    "import nltk\n",
    "import xgboost as xgb\n",
    "import torch\n",
    "import transformers\n",
    "\n",
    "from io import StringIO\n",
    "from scipy import stats as st\n",
    "from tqdm import notebook\n",
    "from joblib import Parallel, delayed\n",
    "from sklearn.pipeline import Pipeline\n",
    "from sklearn.feature_extraction.text import CountVectorizer, TfidfVectorizer\n",
    "from sklearn.metrics import accuracy_score, recall_score, make_scorer, f1_score, precision_recall_curve, average_precision_score, precision_score, confusion_matrix\n",
    "from sklearn.model_selection import cross_validate, train_test_split\n",
    "from sklearn.linear_model import LogisticRegression\n",
    "from sklearn.tree import DecisionTreeClassifier\n",
    "from optuna import TrialPruned\n",
    "from optuna.pruners import ThresholdPruner, SuccessiveHalvingPruner\n",
    "from gensim.models import Word2Vec\n",
    "from nltk.stem import WordNetLemmatizer\n",
    "from nltk.tokenize import word_tokenize\n",
    "from nltk.corpus import stopwords\n",
    "from nltk.corpus import wordnet\n",
    "from catboost import CatBoostClassifier\n",
    "\n",
    "nltk.download('stopwords')\n",
    "nltk.download('averaged_perceptron_tagger')\n",
    "\n",
    "STOP_WORDS = set(stopwords.words('english'))\n",
    "RANDOM_STATE = 73"
   ]
  },
  {
   "cell_type": "code",
   "execution_count": 4,
   "metadata": {},
   "outputs": [],
   "source": [
    "# Список самописных функций\n",
    "def hist_boxplot_combination_(values: np.array, title: str, xlabel: str, ylabel: str) -> plt:\n",
    "    '''\n",
    "    Графики гистограммы и размаха с совмещённой осью абсцисс\n",
    "    values: np.array - массив данных\n",
    "    title: str - название графика\n",
    "    xlabel: str - название оси абсцисс\n",
    "    ylabel: str - название оси ординат\n",
    "    return plt - график\n",
    "    '''\n",
    "    _ = plt.figure(figsize=(12, 6))\n",
    "    gs = gridspec.GridSpec(2, 1, height_ratios=[5, 1]) \n",
    "\n",
    "    ax0 = plt.subplot(gs[0]) # График distplot\n",
    "    sns.histplot(values, ax=ax0, bins=int(np.std(values)))\n",
    "    ax1 = plt.subplot(gs[1]) # Горизонтальный boxplot\n",
    "    sns.boxplot(x=values, ax=ax1, orient='h')\n",
    "\n",
    "    ax0.set_xlim([np.min(values), np.max(values)])\n",
    "    ax1.set_xlim([np.min(values), np.max(values)])\n",
    "\n",
    "    ax0.set_title(title)\n",
    "    ax0.set_ylabel(ylabel)\n",
    "    ax1.set_xlabel(xlabel)\n",
    "\n",
    "    return plt.show()\n",
    "\n",
    "def trimmed_std_(values: np.array, percentile: float) -> float:\n",
    "    '''\n",
    "    Величина стандартного отклонения на основе усечённой средней\n",
    "    values: np.array - массив данных\n",
    "    percentile: float - процент отсечения данных\n",
    "    return float - значение усечённой дисперсии\n",
    "    '''\n",
    "    values.sort()\n",
    "    percentile = percentile / 2\n",
    "    low = int(percentile * len(values))\n",
    "    high = int((1 - percentile) * len(values))\n",
    "\n",
    "    return values[low:high].std(ddof=0)"
   ]
  },
  {
   "cell_type": "code",
   "execution_count": 5,
   "metadata": {},
   "outputs": [
    {
     "data": {
      "text/html": [
       "<div>\n",
       "<style scoped>\n",
       "    .dataframe tbody tr th:only-of-type {\n",
       "        vertical-align: middle;\n",
       "    }\n",
       "\n",
       "    .dataframe tbody tr th {\n",
       "        vertical-align: top;\n",
       "    }\n",
       "\n",
       "    .dataframe thead th {\n",
       "        text-align: right;\n",
       "    }\n",
       "</style>\n",
       "<table border=\"1\" class=\"dataframe\">\n",
       "  <thead>\n",
       "    <tr style=\"text-align: right;\">\n",
       "      <th></th>\n",
       "      <th>text</th>\n",
       "      <th>toxic</th>\n",
       "    </tr>\n",
       "  </thead>\n",
       "  <tbody>\n",
       "    <tr>\n",
       "      <th>0</th>\n",
       "      <td>Explanation\\nWhy the edits made under my usern...</td>\n",
       "      <td>0</td>\n",
       "    </tr>\n",
       "    <tr>\n",
       "      <th>1</th>\n",
       "      <td>D'aww! He matches this background colour I'm s...</td>\n",
       "      <td>0</td>\n",
       "    </tr>\n",
       "    <tr>\n",
       "      <th>2</th>\n",
       "      <td>Hey man, I'm really not trying to edit war. It...</td>\n",
       "      <td>0</td>\n",
       "    </tr>\n",
       "    <tr>\n",
       "      <th>3</th>\n",
       "      <td>\"\\nMore\\nI can't make any real suggestions on ...</td>\n",
       "      <td>0</td>\n",
       "    </tr>\n",
       "    <tr>\n",
       "      <th>4</th>\n",
       "      <td>You, sir, are my hero. Any chance you remember...</td>\n",
       "      <td>0</td>\n",
       "    </tr>\n",
       "  </tbody>\n",
       "</table>\n",
       "</div>"
      ],
      "text/plain": [
       "                                                text  toxic\n",
       "0  Explanation\\nWhy the edits made under my usern...      0\n",
       "1  D'aww! He matches this background colour I'm s...      0\n",
       "2  Hey man, I'm really not trying to edit war. It...      0\n",
       "3  \"\\nMore\\nI can't make any real suggestions on ...      0\n",
       "4  You, sir, are my hero. Any chance you remember...      0"
      ]
     },
     "metadata": {},
     "output_type": "display_data"
    },
    {
     "name": "stdout",
     "output_type": "stream",
     "text": [
      "<class 'pandas.core.frame.DataFrame'>\n",
      "Int64Index: 159292 entries, 0 to 159450\n",
      "Data columns (total 2 columns):\n",
      " #   Column  Non-Null Count   Dtype \n",
      "---  ------  --------------   ----- \n",
      " 0   text    159292 non-null  object\n",
      " 1   toxic   159292 non-null  int64 \n",
      "dtypes: int64(1), object(1)\n",
      "memory usage: 3.6+ MB\n"
     ]
    }
   ],
   "source": [
    "pth1 = './data/toxic_comments.csv'\n",
    "pth2 = None\n",
    "\n",
    "if os.path.exists(pth1):\n",
    "    df_raw = pd.read_csv(pth1, index_col=[0])\n",
    "elif requests.get(pth2).status_code == 200:\n",
    "    df_raw = pd.read_csv(pth2, index_col=[0])\n",
    "else:\n",
    "    print('Что-то не так!')\n",
    "\n",
    "display(df_raw.head())\n",
    "df_raw.info()"
   ]
  },
  {
   "cell_type": "code",
   "execution_count": 6,
   "metadata": {},
   "outputs": [
    {
     "data": {
      "text/html": [
       "<div>\n",
       "<style scoped>\n",
       "    .dataframe tbody tr th:only-of-type {\n",
       "        vertical-align: middle;\n",
       "    }\n",
       "\n",
       "    .dataframe tbody tr th {\n",
       "        vertical-align: top;\n",
       "    }\n",
       "\n",
       "    .dataframe thead th {\n",
       "        text-align: right;\n",
       "    }\n",
       "</style>\n",
       "<table border=\"1\" class=\"dataframe\">\n",
       "  <thead>\n",
       "    <tr style=\"text-align: right;\">\n",
       "      <th></th>\n",
       "      <th>count</th>\n",
       "      <th>unique</th>\n",
       "      <th>top</th>\n",
       "      <th>freq</th>\n",
       "    </tr>\n",
       "  </thead>\n",
       "  <tbody>\n",
       "    <tr>\n",
       "      <th>text</th>\n",
       "      <td>159292</td>\n",
       "      <td>159292</td>\n",
       "      <td>How does the offspring of my grandfather and a...</td>\n",
       "      <td>1</td>\n",
       "    </tr>\n",
       "    <tr>\n",
       "      <th>toxic</th>\n",
       "      <td>159292</td>\n",
       "      <td>2</td>\n",
       "      <td>0</td>\n",
       "      <td>143106</td>\n",
       "    </tr>\n",
       "  </tbody>\n",
       "</table>\n",
       "</div>"
      ],
      "text/plain": [
       "        count  unique                                                top  \\\n",
       "text   159292  159292  How does the offspring of my grandfather and a...   \n",
       "toxic  159292       2                                                  0   \n",
       "\n",
       "         freq  \n",
       "text        1  \n",
       "toxic  143106  "
      ]
     },
     "metadata": {},
     "output_type": "display_data"
    },
    {
     "name": "stdout",
     "output_type": "stream",
     "text": [
      "0    143106\n",
      "1     16186\n",
      "Name: toxic, dtype: int64\n"
     ]
    }
   ],
   "source": [
    "# Основные статистики категориальных признаков\n",
    "display(df_raw.astype('object').describe(include = ['object']).transpose())\n",
    "print(df_raw.toxic.value_counts())"
   ]
  },
  {
   "cell_type": "markdown",
   "metadata": {},
   "source": [
    "Отмещен дисбаланс классов целевого признака, доля негативных сообщений 11,3% (1/8,8 долям)."
   ]
  },
  {
   "cell_type": "markdown",
   "metadata": {},
   "source": [
    "### Вывод\n",
    "<p style=\"text-indent: 40px;\">\n",
    "Исследуемые данные состоят из одной таблицы, которая включает два столбца с собственно самим коротким сообщением (в количестве 159292 шт) и его эмоциональной оценкой. Все текстовые сообщения имеют уникальный состав, а эмоциональная оценка имеет бинарную природу 0 или 1. Собственно эмоциональная оценка имеет неравномерное распределение классов (1 - 11,3%, 0 - 88,7%), в соотношении 1 негативный класс к 8,8 позитивным классам.\n",
    "\n",
    "___"
   ]
  },
  {
   "cell_type": "markdown",
   "metadata": {},
   "source": [
    "## Предварительная обработка данных"
   ]
  },
  {
   "cell_type": "code",
   "execution_count": 7,
   "metadata": {},
   "outputs": [
    {
     "data": {
      "application/vnd.jupyter.widget-view+json": {
       "model_id": "9dcf63dd456046efac096d74648f91b9",
       "version_major": 2,
       "version_minor": 0
      },
      "text/plain": [
       "  0%|          | 0/159292 [00:00<?, ?it/s]"
      ]
     },
     "metadata": {},
     "output_type": "display_data"
    },
    {
     "data": {
      "text/plain": [
       "0    explanation edits made username hardcore metal...\n",
       "1    aww matches background colour seemingly stuck ...\n",
       "2    hey man really trying edit war guy constantly ...\n",
       "3    make real suggestions improvement wondered sec...\n",
       "4                        sir hero chance remember page\n",
       "Name: clear, dtype: object"
      ]
     },
     "execution_count": 7,
     "metadata": {},
     "output_type": "execute_result"
    }
   ],
   "source": [
    "# Приведение к регулярным выражениям, нижнему регистру и удаление стопслов\n",
    "def clear_text(text):\n",
    "    text = re.sub(r'[^a-zA-Z]', ' ', text).split()\n",
    "    filtered_words = [word for word in text if word.casefold() not in STOP_WORDS]\n",
    "    return ' '.join(filtered_words).lower()\n",
    "\n",
    "df_raw['clear'] = [clear_text(df_raw.text.values[i]) for i in notebook.tqdm(range(len(df_raw)))]\n",
    "df_raw.clear.head()"
   ]
  },
  {
   "cell_type": "code",
   "execution_count": 8,
   "metadata": {
    "scrolled": true
   },
   "outputs": [
    {
     "data": {
      "application/vnd.jupyter.widget-view+json": {
       "model_id": "fa906b7909574ca3b7f9a2c455186106",
       "version_major": 2,
       "version_minor": 0
      },
      "text/plain": [
       "  0%|          | 0/159292 [00:00<?, ?it/s]"
      ]
     },
     "metadata": {},
     "output_type": "display_data"
    },
    {
     "data": {
      "text/plain": [
       "0    explanation edits make username hardcore metal...\n",
       "1    aww match background colour seemingly stuck th...\n",
       "2    hey man really try edit war guy constantly rem...\n",
       "3    make real suggestion improvement wonder sectio...\n",
       "4                        sir hero chance remember page\n",
       "Name: clear_lem, dtype: object"
      ]
     },
     "execution_count": 8,
     "metadata": {},
     "output_type": "execute_result"
    }
   ],
   "source": [
    "# Преобразование тегов из treebank в теги WordNet\n",
    "def get_wordnet_pos(treebank_tag):\n",
    "    if treebank_tag.startswith('J'):\n",
    "        return wordnet.ADJ\n",
    "    elif treebank_tag.startswith('V'):\n",
    "        return wordnet.VERB\n",
    "    elif treebank_tag.startswith('N'):\n",
    "        return wordnet.NOUN\n",
    "    elif treebank_tag.startswith('R'):\n",
    "        return wordnet.ADV\n",
    "    else:\n",
    "        return ''\n",
    "\n",
    "# Лематизация текста\n",
    "def lemmatize_pos(text): \n",
    "    words = nltk.word_tokenize(text) # Разбивание предложения на слова\n",
    "    pos_tags = nltk.pos_tag(words) # Получение pos тегов для слов\n",
    "    wordnet_tags = [(word, get_wordnet_pos(pos_tag)) for (word, pos_tag) in pos_tags] # Преобразование pos тегов в теги WordNet\n",
    "    lemmas = [WordNetLemmatizer().lemmatize(word, tag) if tag else word for (word, tag) in wordnet_tags] # Лемматизация слов\n",
    "    return ' '.join(lemmas)\n",
    "\n",
    "df_raw['clear_lem'] = [lemmatize_pos(df_raw.clear.values[i]) for i in notebook.tqdm(range(len(df_raw)))]\n",
    "df_raw['clear_lem'].head()"
   ]
  },
  {
   "cell_type": "code",
   "execution_count": 9,
   "metadata": {},
   "outputs": [
    {
     "name": "stdout",
     "output_type": "stream",
     "text": [
      "Количество дубликатов в отформатированном списке сообщений 1932\n",
      "Количество наблюдений с нулевым количеством слов: 1\n"
     ]
    },
    {
     "data": {
      "text/plain": [
       "(157359, 5)"
      ]
     },
     "execution_count": 9,
     "metadata": {},
     "output_type": "execute_result"
    }
   ],
   "source": [
    "# Поиск и удаление дубликатов\n",
    "print('Количество дубликатов в отформатированном списке сообщений', df_raw.clear_lem.duplicated().sum())\n",
    "df_raw.drop_duplicates(subset=['clear_lem'], inplace=True)\n",
    "\n",
    "# Поиск и удаление твитов, с нулевым количеством слов\n",
    "df_raw['num_words'] = [len(i.split()) for i in df_raw.clear_lem.values]\n",
    "print('Количество наблюдений с нулевым количеством слов:', df_raw[df_raw.num_words == 0].shape[0])\n",
    "df_raw = df_raw[df_raw.num_words >= 1]\n",
    "df_raw.reset_index(drop=True, inplace=True)\n",
    "\n",
    "df_raw.shape"
   ]
  },
  {
   "cell_type": "markdown",
   "metadata": {},
   "source": [
    "### Вывод\n",
    "<p style=\"text-indent: 40px;\">\n",
    "После выполнения очистки текста от посторонних символов и удаление стоп слов, медианная длита твитов сократилась на 50% (с 36 до 18 слов). Лемматизация и очистка дубликатов сократило исследуеммый набор данных на 1932 наблюдений, которые, вероятней всего, будут нести схожую смысловую нагрузку. Так же удалены наблюдения с нулевым количеством слов.\n",
    "\n",
    "___"
   ]
  },
  {
   "cell_type": "markdown",
   "metadata": {},
   "source": [
    "## Исследовательский анализ"
   ]
  },
  {
   "cell_type": "code",
   "execution_count": 10,
   "metadata": {},
   "outputs": [
    {
     "data": {
      "image/png": "[encoded data removed]",
      "text/plain": [
       "<Figure size 864x432 with 2 Axes>"
      ]
     },
     "metadata": {
      "needs_background": "light"
     },
     "output_type": "display_data"
    },
    {
     "data": {
      "text/html": [
       "<div>\n",
       "<style scoped>\n",
       "    .dataframe tbody tr th:only-of-type {\n",
       "        vertical-align: middle;\n",
       "    }\n",
       "\n",
       "    .dataframe tbody tr th {\n",
       "        vertical-align: top;\n",
       "    }\n",
       "\n",
       "    .dataframe thead th {\n",
       "        text-align: right;\n",
       "    }\n",
       "</style>\n",
       "<table border=\"1\" class=\"dataframe\">\n",
       "  <thead>\n",
       "    <tr style=\"text-align: right;\">\n",
       "      <th></th>\n",
       "      <th>count</th>\n",
       "      <th>mean</th>\n",
       "      <th>std</th>\n",
       "      <th>min</th>\n",
       "      <th>1%</th>\n",
       "      <th>25%</th>\n",
       "      <th>50%</th>\n",
       "      <th>75%</th>\n",
       "      <th>99%</th>\n",
       "      <th>max</th>\n",
       "    </tr>\n",
       "  </thead>\n",
       "  <tbody>\n",
       "    <tr>\n",
       "      <th>num_words</th>\n",
       "      <td>157359.0</td>\n",
       "      <td>34.87</td>\n",
       "      <td>54.19</td>\n",
       "      <td>1.0</td>\n",
       "      <td>2.0</td>\n",
       "      <td>9.0</td>\n",
       "      <td>18.0</td>\n",
       "      <td>38.0</td>\n",
       "      <td>303.0</td>\n",
       "      <td>1250.0</td>\n",
       "    </tr>\n",
       "  </tbody>\n",
       "</table>\n",
       "</div>"
      ],
      "text/plain": [
       "              count   mean    std  min   1%  25%   50%   75%    99%     max\n",
       "num_words  157359.0  34.87  54.19  1.0  2.0  9.0  18.0  38.0  303.0  1250.0"
      ]
     },
     "metadata": {},
     "output_type": "display_data"
    },
    {
     "name": "stdout",
     "output_type": "stream",
     "text": [
      "Среднее усеченное: 23.6\n",
      "Стандартное отклонение на основе усеченной средней: 23.6\n"
     ]
    }
   ],
   "source": [
    "hist_boxplot_combination_(\n",
    "    values=df_raw.num_words.values,\n",
    "    title='Графики гистограммы и размаха распределения значений исследуемого множества',\n",
    "    xlabel='Значения множества',\n",
    "    ylabel='Частота распределения значений',\n",
    ")\n",
    "display(pd.DataFrame(df_raw.num_words.describe(percentiles=[.01,.25,.5,.75,.99])).round(2).transpose())\n",
    "print('Среднее усеченное:', st.trim_mean(df_raw.num_words, 0.1).round(1))\n",
    "print('Стандартное отклонение на основе усеченной средней:', trimmed_std_(df_raw.num_words.values, 0.1).round(1))"
   ]
  },
  {
   "cell_type": "markdown",
   "metadata": {},
   "source": [
    "<p style=\"text-indent: 40px;\">\n",
    "Оценка центрального положения выборки показывает, что среднее значением 34,9 сильно больше медианного 18. Снизив влияние выбросов, рассчитав среднее усечённое значение (отсечение 10%), получаем смещение рассчитанного значения среднего сильно ближе к медианному. Оценка вариабельности выборки показывает сильное отличие размаха диапазона значений хвостов выборки 25%-min=8 и max-75%=1212 что свидетельствует о сильной правосторонней асимметрии наблюдаемого распределения. Размах выборки в 43 раза больше интерквантильного размаха, что говорит о наличии значительных выбросов, что также подтверждает сильное превышение стандартного отклонения над средним значением, и отличие в двое стандартного отклонения от стандартного отклонения по усечённой средней. Из выше сказанного очевидно, что корректировка количества наблюдаемых выбросов поможет улучшить результаты работы ML."
   ]
  },
  {
   "cell_type": "code",
   "execution_count": 11,
   "metadata": {},
   "outputs": [
    {
     "name": "stdout",
     "output_type": "stream",
     "text": [
      "Количество слов: 5487345\n",
      "Количество уникальных слов: 157685\n",
      "Количество уникальных слов, встречающихся 1 раз: 82418\n"
     ]
    }
   ],
   "source": [
    "# Исследование частот распределения слов в данных\n",
    "frequency_text = df_raw.clear_lem.str.split().explode().value_counts()\n",
    "\n",
    "print('Количество слов:', frequency_text.sum())\n",
    "print('Количество уникальных слов:', frequency_text.count())\n",
    "print('Количество уникальных слов, встречающихся 1 раз:', frequency_text[frequency_text < 2].count())"
   ]
  },
  {
   "cell_type": "code",
   "execution_count": 12,
   "metadata": {},
   "outputs": [
    {
     "data": {
      "text/plain": [
       "0    explanation edits make username hardcore metal...\n",
       "1    aww match background colour seemingly stuck th...\n",
       "2    hey man really try edit war guy constantly rem...\n",
       "3    make real suggestion improvement wonder sectio...\n",
       "4                        sir hero chance remember page\n",
       "Name: clear_lem, dtype: object"
      ]
     },
     "metadata": {},
     "output_type": "display_data"
    },
    {
     "name": "stdout",
     "output_type": "stream",
     "text": [
      "Количество дубликатов в отформатированном списке сообщений 480\n",
      "Количество слов: 5383749\n",
      "Количество уникальных слов: 75267\n"
     ]
    }
   ],
   "source": [
    "# Удаление слов из твитов, встречающихся один раз на весь набор данных\n",
    "TUNE_TEXT = False\n",
    "if TUNE_TEXT:\n",
    "    filtered_text = np.ascontiguousarray(frequency_text[frequency_text < 2].sort_index().index)\n",
    "\n",
    "    def clear_text_clear(text):\n",
    "        text = text.split()\n",
    "        filtered_words = [word for word in text if word not in filtered_text]\n",
    "        return ' '.join(filtered_words)\n",
    "\n",
    "    df_raw['clear_lem'] = Parallel(n_jobs=-1)(delayed(clear_text_clear)(df_raw.clear_lem[i]) for i in notebook.tqdm(range(len(df_raw))))\n",
    "\n",
    "    df_raw['clear_lem'].to_csv('clear_lem_clear.csv', index=False)\n",
    "else:\n",
    "    file_url = 'https://drive.google.com/file/d/1T5NelQt29JwMKecH4egXJa0a7x6Xp0ar/view?usp=sharing'\n",
    "    file_id = file_url.split('/')[-2] # Извлекаем идентификатор файла из URL-адреса\n",
    "\n",
    "    # Формируем URL-адрес для загрузки файла\n",
    "    download_url = 'https://drive.google.com/uc?export=download&id=' + file_id\n",
    "\n",
    "    df_raw['clear_lem'] = pd.read_csv(StringIO(requests.get(download_url).text)) # Размер файла 36Mb\n",
    "    df_raw['num_words'] = [len(str(i).split()) for i in df_raw.clear_lem.values]\n",
    "\n",
    "    display(df_raw['clear_lem'].head())\n",
    "\n",
    "    print('Количество дубликатов в отформатированном списке сообщений', df_raw.clear_lem.duplicated().sum())\n",
    "    df_raw.drop_duplicates(subset=['clear_lem'], inplace=True)\n",
    "    df_raw.dropna(inplace=True)\n",
    "    df_raw.reset_index(drop=True, inplace=True)\n",
    "    \n",
    "    print('Количество слов:', df_raw.clear_lem.str.split().explode().count())\n",
    "    print('Количество уникальных слов:', df_raw.clear_lem.str.split().explode().nunique())"
   ]
  },
  {
   "cell_type": "markdown",
   "metadata": {},
   "source": [
    "<p style=\"text-indent: 40px;\">\n",
    "В исследуемом наборе текстов обнаружено чуть менее 5,5 мил. слов и 158К из них уникальны. Исследуя частоту встречаемости слов в тексте, более 81К имеют частоту равную одному и явно не годятся для классификации, поскольку вероятность встречи каждого из их крайне мала (1/5,5 мил.). Очистка подобных слов сокращает признаковое пространство на 51,3% при этом общее количество слов снижается на 1,9%, что не должно сказаться негативно на качестве обучения ML и должно повысить его эффективность."
   ]
  },
  {
   "cell_type": "markdown",
   "metadata": {},
   "source": [
    "### Вывод\n",
    "<p style=\"text-indent: 40px;\">\n",
    "Оценка центрального положения выборки показывает, что среднее значением 68,3 сильно больше медианного 36. Снизив влияние выбросов, рассчитав среднее усечённое значение, получаем смещение рассчитанного значения среднего заметно ближе к медианному. Оценка вариабельности выборки показывает сильное отличие размаха диапазона значений хвостов выборки 25%-min=17 и max-75%=1327 что свидетельствует о правосторонней асимметрии наблюдаемого распределения. Размах выборки в 23,8 раза больше интерквантильного размаха, что говорит о наличии значительных выбросов, что также подтверждает сильное превышение стандартного отклонения над средним значением, и отличие в двое стандартного отклонения от стандартного отклонения по усечённой средней. Из выше сказанного очевидно, что корректировка количества наблюдаемых выбросов поможет улучшить результаты работы ML.\n",
    "<p style=\"text-indent: 40px;\">\n",
    "В исследуемом наборе текстов обнаружено чуть менее 5,5 мил. слов и 158К из них уникальны. Исследуя частоту встречаемости слов в тексте, более 81К имеют частоту равную одному и явно не годятся для классификации, поскольку вероятность встречи каждого из их крайне мала (1/5,5 мил.). Очистка подобных слов сокращает признаковое пространство на 51,3% при этом общее количество слов снижается на 1,9%, что не должно сказаться негативно на качестве обучения ML и должно повысить его эффективность.\n",
    "\n",
    "___"
   ]
  },
  {
   "cell_type": "markdown",
   "metadata": {},
   "source": [
    "## Обучение моделей"
   ]
  },
  {
   "cell_type": "code",
   "execution_count": 13,
   "metadata": {},
   "outputs": [],
   "source": [
    "# Список зипланированных к иследованию методов\n",
    "class_models_type = [\n",
    "    ('mlr', LogisticRegression(random_state=RANDOM_STATE, max_iter=500, class_weight='balanced')),\n",
    "    ('mdtc', DecisionTreeClassifier(random_state=RANDOM_STATE, class_weight='balanced')),\n",
    "    ('mcbc', CatBoostClassifier(random_state=RANDOM_STATE, verbose=False, auto_class_weights='Balanced', task_type='GPU')),\n",
    "    ('mxgb', xgb.XGBClassifier(random_state=RANDOM_STATE, verbosity=0, scale_pos_weight=9)),\n",
    "]\n",
    "scoring = {\n",
    "    'accuracy': make_scorer(accuracy_score),\n",
    "    'f1': make_scorer(f1_score),\n",
    "    'recall': make_scorer(recall_score),\n",
    "    'precision': make_scorer(precision_score),\n",
    "}"
   ]
  },
  {
   "cell_type": "markdown",
   "metadata": {},
   "source": [
    "### Обучение моделей с использованием bag-of-words"
   ]
  },
  {
   "cell_type": "code",
   "execution_count": 14,
   "metadata": {},
   "outputs": [
    {
     "name": "stdout",
     "output_type": "stream",
     "text": [
      "Оптимальное значение отсечения выбрасов: 87\n"
     ]
    }
   ],
   "source": [
    "# Поиск оптимального значения отсечения выбрасов для bag-of-words\n",
    "TUNE_HYPERPARAMETERS = False\n",
    "if TUNE_HYPERPARAMETERS:\n",
    "    def objective(trial: optuna.Trial):\n",
    "\n",
    "        estimation = trial.suggest_int('estimation', 80, 150)\n",
    "\n",
    "        X_train, X_test, Y_train, Y_test = train_test_split(\n",
    "            df_raw[df_raw.num_words < estimation].clear_lem.values, \n",
    "            df_raw[df_raw.num_words < estimation].toxic.values, \n",
    "            stratify=df_raw[df_raw.num_words < estimation].toxic.values,\n",
    "            test_size=0.2,\n",
    "            random_state=RANDOM_STATE,\n",
    "            shuffle=True\n",
    "        )\n",
    "        try:\n",
    "            pipeline = Pipeline([\n",
    "                ('count_vect', CountVectorizer()), \n",
    "                ('mlr', class_models_type[0][1]),\n",
    "            ])\n",
    "            scores = cross_validate(estimator=pipeline, X=X_train, y=Y_train, scoring=make_scorer(f1_score), cv=4)\n",
    "\n",
    "            return np.mean(scores['test_score'])\n",
    "        except:\n",
    "            raise optuna.TrialPruned()\n",
    "        \n",
    "    study = optuna.create_study(direction='maximize', \n",
    "                                sampler=optuna.samplers.TPESampler(seed=RANDOM_STATE),\n",
    "                                pruner=SuccessiveHalvingPruner()\n",
    "                                )\n",
    "    study.optimize(objective, n_trials=500, timeout=None, n_jobs=-1)\n",
    "else:\n",
    "    print('Оптимальное значение отсечения выбрасов: 87')"
   ]
  },
  {
   "cell_type": "code",
   "execution_count": 15,
   "metadata": {},
   "outputs": [
    {
     "name": "stdout",
     "output_type": "stream",
     "text": [
      "(115111,) (28778,) (115111,) (28778,)\n"
     ]
    }
   ],
   "source": [
    "# Подбор оптимальной безлайновой модели для bag-of-words\n",
    "X_train, X_test, Y_train, Y_test = train_test_split(\n",
    "    df_raw[df_raw.num_words < 87].clear_lem.values, \n",
    "    df_raw[df_raw.num_words < 87].toxic.values, \n",
    "    stratify=df_raw[df_raw.num_words < 87].toxic.values,\n",
    "    test_size=0.2,\n",
    "    random_state=RANDOM_STATE,\n",
    "    shuffle=True\n",
    ")\n",
    "print(X_train.shape, X_test.shape, Y_train.shape, Y_test.shape)\n",
    "\n",
    "TUNE_MODELS = False\n",
    "if TUNE_MODELS:\n",
    "    for name, model in class_models_type:\n",
    "        pipeline = Pipeline([\n",
    "            ('count_vect', CountVectorizer()), \n",
    "            ('model', model)\n",
    "        ])\n",
    "        scores = cross_validate(estimator=pipeline, X=X_train, y=Y_train, scoring=scoring, cv=4)\n",
    "\n",
    "        print(f'{name}: accuracy:', np.round(np.mean(scores['test_accuracy']),3))\n",
    "        print(f'{name}: f1:', np.round(np.mean(scores['test_f1']),3))\n",
    "        print(f'{name}: recall:', np.round(np.mean(scores['test_recall']),3))\n",
    "        print(f'{name}: precision:', np.round(np.mean(scores['test_precision']),3))\n",
    "        print(f'{name}: fit_time:', np.round(np.mean(scores['fit_time'])/60,3))"
   ]
  },
  {
   "cell_type": "markdown",
   "metadata": {},
   "source": [
    "| Модели классификации       | accuracy |   f1   | recall | precision | fit_time |\n",
    "| -------------------------- | -------- | ------ | ------ | --------- | -------- |\n",
    "| LogisticRegression         | 0.947    | 0.766  | 0.830  | 0.710     | 0.102    |\n",
    "| DecisionTreeClassifier     | 0.913    | 0.638  | 0.730  | 0.567     | 0.604    |\n",
    "| CatBoostClassifier         | 0.944    | 0.748  | 0.799  | 0.704     | 1.077    |\n",
    "| XGBClassifier              | 0.945    | 0.750  | 0.790  | 0.713     | 0.167    |"
   ]
  },
  {
   "cell_type": "markdown",
   "metadata": {},
   "source": [
    "Лучшие результаты для bag-of-words показывает LogisticRegression со значением f1=0.766. Максимальное количество слов в твитах определено на уровне 87 шт."
   ]
  },
  {
   "cell_type": "markdown",
   "metadata": {},
   "source": [
    "### Обучение моделей с использованием TF-IDF"
   ]
  },
  {
   "cell_type": "code",
   "execution_count": 16,
   "metadata": {},
   "outputs": [
    {
     "name": "stdout",
     "output_type": "stream",
     "text": [
      "Оптимальное значение отсечения выбрасов: 90\n"
     ]
    }
   ],
   "source": [
    "# Поиск оптимального значения отсечения выбрасов на TF-IDF\n",
    "TUNE_HYPERPARAMETERS = False\n",
    "if TUNE_HYPERPARAMETERS:\n",
    "    def objective(trial: optuna.Trial):\n",
    "\n",
    "        estimation = trial.suggest_int('estimation', 50, 1250)\n",
    "\n",
    "        X_train, X_test, Y_train, Y_test = train_test_split(\n",
    "            df_raw[df_raw.num_words < estimation].clear_lem.values, \n",
    "            df_raw[df_raw.num_words < estimation].toxic.values, \n",
    "            stratify=df_raw[df_raw.num_words < estimation].toxic,\n",
    "            test_size=0.2,\n",
    "            random_state=RANDOM_STATE,\n",
    "            shuffle=True\n",
    "        )\n",
    "        try:\n",
    "            pipeline = Pipeline([\n",
    "                ('count_vect', TfidfVectorizer()), \n",
    "                ('mcbc', class_models_type[0][1])\n",
    "            ])\n",
    "            scores = cross_validate(estimator=pipeline, X=X_train, y=Y_train, scoring=make_scorer(f1_score), cv=3)\n",
    "\n",
    "            return np.mean(scores['test_score'])\n",
    "        except:\n",
    "            raise optuna.TrialPruned()\n",
    "\n",
    "    study = optuna.create_study(direction='maximize', \n",
    "                                sampler=optuna.samplers.TPESampler(seed=RANDOM_STATE),\n",
    "                                pruner=SuccessiveHalvingPruner()\n",
    "                                )\n",
    "    study.optimize(objective, n_trials=500, timeout=None, n_jobs=-1)\n",
    "else:\n",
    "    print('Оптимальное значение отсечения выбрасов: 90')"
   ]
  },
  {
   "cell_type": "code",
   "execution_count": 17,
   "metadata": {},
   "outputs": [
    {
     "name": "stdout",
     "output_type": "stream",
     "text": [
      "(115688,) (28923,) (115688,) (28923,)\n"
     ]
    }
   ],
   "source": [
    "# Подбор оптимальной безлайновой модели для TF-IDF\n",
    "X_train, X_test, Y_train, Y_test = train_test_split(\n",
    "    df_raw[df_raw.num_words < 90].clear_lem.values,\n",
    "    df_raw[df_raw.num_words < 90].toxic.values, \n",
    "    stratify=df_raw[df_raw.num_words < 90].toxic.values,\n",
    "    test_size=0.2,\n",
    "    random_state=RANDOM_STATE,\n",
    "    shuffle=True\n",
    ")\n",
    "print(X_train.shape, X_test.shape, Y_train.shape, Y_test.shape)\n",
    "\n",
    "TUNE_MODELS = False\n",
    "if TUNE_MODELS:\n",
    "    for name, model in class_models_type:\n",
    "        pipeline = Pipeline([\n",
    "            ('count_vect', TfidfVectorizer()), \n",
    "            ('model', model)\n",
    "        ])\n",
    "        scores = cross_validate(estimator=pipeline, X=X_train, y=Y_train, scoring=scoring, cv=4)\n",
    "\n",
    "        print(f'{name}: accuracy:', np.round(np.mean(scores['test_accuracy']),3))\n",
    "        print(f'{name}: f1:', np.round(np.mean(scores['test_f1']),3))\n",
    "        print(f'{name}: recall:', np.round(np.mean(scores['test_recall']),3))\n",
    "        print(f'{name}: precision:', np.round(np.mean(scores['test_precision']),3))\n",
    "        print(f'{name}: fit_time:', np.round(np.mean(scores['fit_time'])/60,3))"
   ]
  },
  {
   "cell_type": "markdown",
   "metadata": {},
   "source": [
    "| Модели классификации       | accuracy |   f1   | recall | precision | fit_time |\n",
    "| -------------------------- | -------- | ------ | ------ | --------- | -------- |\n",
    "| LogisticRegression         | 0.943    | 0.756  | 0.846  | 0.683     | 0.053    |\n",
    "| DecisionTreeClassifier     | 0.911    | 0.634  | 0.735  | 0.558     | 0.705    |\n",
    "| CatBoostClassifier         | 0.944    | 0.750  | 0.802  | 0.705     | 2.006    |\n",
    "| XGBClassifier              | 0.944    | 0.745  | 0.785  | 0.709     | 0.742    |"
   ]
  },
  {
   "cell_type": "markdown",
   "metadata": {},
   "source": [
    "Лучшие результаты для TF-IDF показывает LogisticRegression со значением f1=0.756. Максимальное количество слов в твитах определено на уровне 90 шт."
   ]
  },
  {
   "cell_type": "markdown",
   "metadata": {},
   "source": [
    "### Обучение моделей с использованием Bert"
   ]
  },
  {
   "cell_type": "code",
   "execution_count": 18,
   "metadata": {},
   "outputs": [],
   "source": [
    "# Список зипланированных к иследованию методов\n",
    "class_models_type = [\n",
    "    ('mlr', LogisticRegression(random_state=RANDOM_STATE, max_iter=1000, class_weight='balanced')),\n",
    "    ('mcbc', CatBoostClassifier(random_state=RANDOM_STATE, verbose=False, auto_class_weights='Balanced')),\n",
    "    ('mxgb', xgb.XGBClassifier(random_state=RANDOM_STATE, verbosity=0, scale_pos_weight=9)),\n",
    "]\n",
    "scoring = {\n",
    "    'accuracy': make_scorer(accuracy_score),\n",
    "    'f1': make_scorer(f1_score),\n",
    "    'recall': make_scorer(recall_score),\n",
    "    'precision': make_scorer(precision_score),\n",
    "}"
   ]
  },
  {
   "cell_type": "code",
   "execution_count": 19,
   "metadata": {},
   "outputs": [
    {
     "data": {
      "text/html": [
       "<div>\n",
       "<style scoped>\n",
       "    .dataframe tbody tr th:only-of-type {\n",
       "        vertical-align: middle;\n",
       "    }\n",
       "\n",
       "    .dataframe tbody tr th {\n",
       "        vertical-align: top;\n",
       "    }\n",
       "\n",
       "    .dataframe thead th {\n",
       "        text-align: right;\n",
       "    }\n",
       "</style>\n",
       "<table border=\"1\" class=\"dataframe\">\n",
       "  <thead>\n",
       "    <tr style=\"text-align: right;\">\n",
       "      <th></th>\n",
       "      <th>text</th>\n",
       "      <th>toxic</th>\n",
       "    </tr>\n",
       "  </thead>\n",
       "  <tbody>\n",
       "    <tr>\n",
       "      <th>0</th>\n",
       "      <td>Explanation\\nWhy the edits made under my usern...</td>\n",
       "      <td>0</td>\n",
       "    </tr>\n",
       "    <tr>\n",
       "      <th>1</th>\n",
       "      <td>D'aww! He matches this background colour I'm s...</td>\n",
       "      <td>0</td>\n",
       "    </tr>\n",
       "    <tr>\n",
       "      <th>2</th>\n",
       "      <td>Hey man, I'm really not trying to edit war. It...</td>\n",
       "      <td>0</td>\n",
       "    </tr>\n",
       "    <tr>\n",
       "      <th>3</th>\n",
       "      <td>\"\\nMore\\nI can't make any real suggestions on ...</td>\n",
       "      <td>0</td>\n",
       "    </tr>\n",
       "    <tr>\n",
       "      <th>4</th>\n",
       "      <td>You, sir, are my hero. Any chance you remember...</td>\n",
       "      <td>0</td>\n",
       "    </tr>\n",
       "  </tbody>\n",
       "</table>\n",
       "</div>"
      ],
      "text/plain": [
       "                                                text  toxic\n",
       "0  Explanation\\nWhy the edits made under my usern...      0\n",
       "1  D'aww! He matches this background colour I'm s...      0\n",
       "2  Hey man, I'm really not trying to edit war. It...      0\n",
       "3  \"\\nMore\\nI can't make any real suggestions on ...      0\n",
       "4  You, sir, are my hero. Any chance you remember...      0"
      ]
     },
     "metadata": {},
     "output_type": "display_data"
    },
    {
     "data": {
      "application/vnd.jupyter.widget-view+json": {
       "model_id": "af2570b118f54e5fb81334d593aaf559",
       "version_major": 2,
       "version_minor": 0
      },
      "text/plain": [
       "  0%|          | 0/159292 [00:00<?, ?it/s]"
      ]
     },
     "metadata": {},
     "output_type": "display_data"
    },
    {
     "data": {
      "text/plain": [
       "0    explanation why the edits made under my userna...\n",
       "1    d aww he matches this background colour i m se...\n",
       "2    hey man i m really not trying to edit war it s...\n",
       "3    more i can t make any real suggestions on impr...\n",
       "4    you sir are my hero any chance you remember wh...\n",
       "Name: clear, dtype: object"
      ]
     },
     "metadata": {},
     "output_type": "display_data"
    },
    {
     "name": "stdout",
     "output_type": "stream",
     "text": [
      "Количество дубликатов в отформатированном списке сообщений 1323\n",
      "Количество наблюдений с нулевым количеством слов: 1\n"
     ]
    },
    {
     "data": {
      "text/plain": [
       "(157968, 4)"
      ]
     },
     "execution_count": 19,
     "metadata": {},
     "output_type": "execute_result"
    }
   ],
   "source": [
    "pth1 = './data/toxic_comments.csv'\n",
    "pth2 = 'https://code.s3.yandex.net/datasets/toxic_comments.csv'\n",
    "\n",
    "if os.path.exists(pth1):\n",
    "    df_bert = pd.read_csv(pth1, index_col=[0])\n",
    "elif requests.get(pth2).status_code == 200:\n",
    "    df_bert = pd.read_csv(pth2, index_col=[0])\n",
    "else:\n",
    "    print('Что-то не так!')\n",
    "\n",
    "display(df_bert.head())\n",
    "\n",
    "#df_bert = df_bert.sample(n=8007, random_state=73)\n",
    "\n",
    "# Приведение к регулярным выражениям, нижнему регистру\n",
    "def clear_text(text):\n",
    "    return ' '.join(re.sub(r'[^a-zA-Z]', ' ', text).split()).lower()\n",
    "\n",
    "corpus = df_bert['text'].values\n",
    "\n",
    "df_bert['clear'] = [clear_text(corpus[i]) for i in notebook.tqdm(range(len(corpus)))]\n",
    "display(df_bert.clear.head())\n",
    "\n",
    "# Поиск и удаление дубликатов\n",
    "print('Количество дубликатов в отформатированном списке сообщений', df_bert.clear.duplicated().sum())\n",
    "df_bert.drop_duplicates(subset=['clear'], inplace=True)\n",
    "\n",
    "# Поиск и удаление твитов, с нулевым количеством слов\n",
    "df_bert['num_words'] = [len(i.split()) for i in df_bert.clear.values]\n",
    "print('Количество наблюдений с нулевым количеством слов:', df_bert[df_bert.num_words == 0].shape[0])\n",
    "df_bert = df_bert[df_bert.num_words >= 1]\n",
    "\n",
    "df_bert.shape"
   ]
  },
  {
   "cell_type": "code",
   "execution_count": 20,
   "metadata": {},
   "outputs": [
    {
     "data": {
      "text/html": [
       "<div>\n",
       "<style scoped>\n",
       "    .dataframe tbody tr th:only-of-type {\n",
       "        vertical-align: middle;\n",
       "    }\n",
       "\n",
       "    .dataframe tbody tr th {\n",
       "        vertical-align: top;\n",
       "    }\n",
       "\n",
       "    .dataframe thead th {\n",
       "        text-align: right;\n",
       "    }\n",
       "</style>\n",
       "<table border=\"1\" class=\"dataframe\">\n",
       "  <thead>\n",
       "    <tr style=\"text-align: right;\">\n",
       "      <th></th>\n",
       "      <th>0</th>\n",
       "      <th>1</th>\n",
       "      <th>2</th>\n",
       "      <th>3</th>\n",
       "      <th>4</th>\n",
       "      <th>5</th>\n",
       "    </tr>\n",
       "  </thead>\n",
       "  <tbody>\n",
       "    <tr>\n",
       "      <th>0</th>\n",
       "      <td>-7.108549</td>\n",
       "      <td>-9.158273</td>\n",
       "      <td>-8.603210</td>\n",
       "      <td>-9.150956</td>\n",
       "      <td>-8.636945</td>\n",
       "      <td>-8.910042</td>\n",
       "    </tr>\n",
       "    <tr>\n",
       "      <th>1</th>\n",
       "      <td>-7.355633</td>\n",
       "      <td>-9.049333</td>\n",
       "      <td>-8.620355</td>\n",
       "      <td>-9.012585</td>\n",
       "      <td>-8.639869</td>\n",
       "      <td>-8.905448</td>\n",
       "    </tr>\n",
       "    <tr>\n",
       "      <th>2</th>\n",
       "      <td>-6.987301</td>\n",
       "      <td>-9.166099</td>\n",
       "      <td>-8.631073</td>\n",
       "      <td>-9.105227</td>\n",
       "      <td>-8.616288</td>\n",
       "      <td>-8.878115</td>\n",
       "    </tr>\n",
       "    <tr>\n",
       "      <th>3</th>\n",
       "      <td>-7.549667</td>\n",
       "      <td>-8.915141</td>\n",
       "      <td>-8.568934</td>\n",
       "      <td>-8.902932</td>\n",
       "      <td>-8.626454</td>\n",
       "      <td>-8.833325</td>\n",
       "    </tr>\n",
       "    <tr>\n",
       "      <th>4</th>\n",
       "      <td>-6.987345</td>\n",
       "      <td>-9.119648</td>\n",
       "      <td>-8.705936</td>\n",
       "      <td>-8.909798</td>\n",
       "      <td>-8.595430</td>\n",
       "      <td>-8.831935</td>\n",
       "    </tr>\n",
       "  </tbody>\n",
       "</table>\n",
       "</div>"
      ],
      "text/plain": [
       "          0         1         2         3         4         5\n",
       "0 -7.108549 -9.158273 -8.603210 -9.150956 -8.636945 -8.910042\n",
       "1 -7.355633 -9.049333 -8.620355 -9.012585 -8.639869 -8.905448\n",
       "2 -6.987301 -9.166099 -8.631073 -9.105227 -8.616288 -8.878115\n",
       "3 -7.549667 -8.915141 -8.568934 -8.902932 -8.626454 -8.833325\n",
       "4 -6.987345 -9.119648 -8.705936 -8.909798 -8.595430 -8.831935"
      ]
     },
     "metadata": {},
     "output_type": "display_data"
    }
   ],
   "source": [
    "# Получение векторного представления текста\n",
    "TUNE_MODELS = False\n",
    "if TUNE_MODELS:\n",
    "\n",
    "    from transformers import AutoTokenizer, AutoModelForSequenceClassification\n",
    "    tokenizer = AutoTokenizer.from_pretrained('unitary/toxic-bert')\n",
    "    model = AutoModelForSequenceClassification.from_pretrained('unitary/toxic-bert')\n",
    "\n",
    "    # Токенизация списка твитов\n",
    "    encoded_tweets = tokenizer.batch_encode_plus(\n",
    "        df_raw.clear.to_list(),\n",
    "        add_special_tokens=True, # Добавление специальных токенов начала и разделитель к входным данным перед кодированием\n",
    "        padding=True, # Добавление заполнения до одинаковой длины\n",
    "        truncation=True, # Обрезка последовательностей, если они превышают максимальную длину\n",
    "        max_length=512, # Установка максимальной длины токена\n",
    "        return_tensors='pt' # Возврат тензоров PyTorch\n",
    "    )\n",
    "    print(encoded_tweets['input_ids'].shape, encoded_tweets['attention_mask'].shape)\n",
    "\n",
    "    device = torch.device('cuda:0' if torch.cuda.is_available() else 'cpu')\n",
    "    print(device)\n",
    "    model.to(device)\n",
    "\n",
    "    batch_size = 144\n",
    "    embeddings = []\n",
    "    for i in notebook.tqdm(range(encoded_tweets['input_ids'].shape[0] // batch_size)):\n",
    "        batch = torch.LongTensor(encoded_tweets['input_ids'][batch_size*i:batch_size*(i+1)]).to(device) \n",
    "        attention_mask_batch = torch.LongTensor(encoded_tweets['attention_mask'][batch_size*i:batch_size*(i+1)]).to(device) \n",
    "            \n",
    "        with torch.no_grad():\n",
    "            batch_embeddings = model(batch, attention_mask=attention_mask_batch)\n",
    "        \n",
    "        embeddings.append(batch_embeddings[0].cpu().numpy())\n",
    "\n",
    "    features_bert = pd.DataFrame(np.concatenate(embeddings))\n",
    "    #features_bert.to_csv('toxic-bert.csv', index=False)\n",
    "else:\n",
    "    file_url = 'https://drive.google.com/file/d/1ZmRGlMuB6Pe3m1HKUnxYF1tUIC6LAub2/view?usp=sharing'\n",
    "    file_id = file_url.split('/')[-2] # Извлекаем идентификатор файла из URL-адреса\n",
    "\n",
    "    # Формируем URL-адрес для загрузки файла\n",
    "    download_url = 'https://drive.google.com/uc?export=download&id=' + file_id\n",
    "\n",
    "    features_bert = pd.read_csv(StringIO(requests.get(download_url).text))\n",
    "\n",
    "    display(features_bert.head())"
   ]
  },
  {
   "cell_type": "code",
   "execution_count": 21,
   "metadata": {
    "scrolled": true
   },
   "outputs": [
    {
     "name": "stdout",
     "output_type": "stream",
     "text": [
      "(126374, 6) (31594, 6) (126374,) (31594,)\n"
     ]
    }
   ],
   "source": [
    "# Подбор оптимальной безлайновой модели для Bert\n",
    "X_train, X_test, Y_train, Y_test = train_test_split(\n",
    "    features_bert.values, \n",
    "    df_bert.toxic.values, \n",
    "    stratify=df_bert.toxic.values,\n",
    "    test_size=0.2,\n",
    "    random_state=RANDOM_STATE,\n",
    "    shuffle=True\n",
    ")\n",
    "print(X_train.shape, X_test.shape, Y_train.shape, Y_test.shape)\n",
    "\n",
    "TUNE_MODELS = False\n",
    "if TUNE_MODELS:\n",
    "    for name, model in class_models_type:\n",
    "        \n",
    "        scores = cross_validate(estimator=model, X=X_train, y=Y_train, scoring=scoring, cv=4)\n",
    "\n",
    "        print(f'{name}: accuracy:', np.round(np.mean(scores['test_accuracy']),3))\n",
    "        print(f'{name}: f1:', np.round(np.mean(scores['test_f1']),3))\n",
    "        print(f'{name}: recall:', np.round(np.mean(scores['test_recall']),3))\n",
    "        print(f'{name}: precision:', np.round(np.mean(scores['test_precision']),3))\n",
    "        print(f'{name}: fit_time:', np.round(np.mean(scores['fit_time'])/60,3))"
   ]
  },
  {
   "cell_type": "markdown",
   "metadata": {},
   "source": [
    "Результаты тестирования `'bert-base-uncased'` на обработанных данных\n",
    "\n",
    "| Модели классификации       | accuracy |   f1   | recall | precision | fit_time |\n",
    "| -------------------------- | -------- | ------ | ------ | --------- | -------- |\n",
    "| LogisticRegression         | 0.903    | 0.649  | 0.886  | 0.512     | 0.638    |\n",
    "| CatBoostClassifier         | 0.928    | 0.691  | 0.795  | 0.612     | 2.656    |\n",
    "| XGBClassifier              | 0.932    | 0.684  | 0.722  | 0.651     | 0.614    |"
   ]
  },
  {
   "cell_type": "markdown",
   "metadata": {},
   "source": [
    "Результаты тестирования `'toxic-bert'` на обработанных данных\n",
    "\n",
    "| Модели классификации       | accuracy |   f1   | recall | precision | fit_time |\n",
    "| -------------------------- | -------- | ------ | ------ | --------- | -------- |\n",
    "| LogisticRegression         | 0.980    | 0.909  | 0.985  | 0.843     | 0.007    |\n",
    "| CatBoostClassifier         | 0.983    | 0.922  | 0.976  | 0.875     | 0.249    |\n",
    "| XGBClassifier              | 0.984    | 0.925  | 0.973  | 0.882     | 0.007    |"
   ]
  },
  {
   "cell_type": "code",
   "execution_count": 22,
   "metadata": {},
   "outputs": [
    {
     "name": "stdout",
     "output_type": "stream",
     "text": [
      "\n",
      "Количество завершенных испытаний: 500\n",
      "Лучшее испытание завершено на итерации: 315\n",
      "Лучшее значение целевой метрики: 0.9459321284643296\n",
      "\n",
      "Значение accuracy: 0.989\n",
      "Значение f1: 0.944\n",
      "Значение recall: 0.95\n",
      "Значение precision: 0.938\n"
     ]
    }
   ],
   "source": [
    "# Подбор оптимальных гиперпараметров для XGBClassifier\n",
    "TUNE_HYPERPARAMETERS = False\n",
    "if TUNE_HYPERPARAMETERS:\n",
    "    def objective(trial: optuna.Trial):\n",
    "\n",
    "        model = xgb.XGBClassifier(\n",
    "            random_state=RANDOM_STATE,\n",
    "            #tree_method='gpu_hist', predictor='gpu_predictor',\n",
    "            verbosity=0,\n",
    "            n_estimators=trial.suggest_int('n_estimators', 10, 5000),\n",
    "            learning_rate=trial.suggest_float('learning_rate', 0.0001, 0.1),\n",
    "            max_depth=trial.suggest_int('max_depth', 1, 10),\n",
    "            booster=trial.suggest_categorical('booster', ['gbtree','gblinear']),\n",
    "            subsample=trial.suggest_float('subsample', 0.1, 1),\n",
    "            colsample_bytree=trial.suggest_float('colsample_bytree', 0.1, 1),\n",
    "            gamma=trial.suggest_float('gamma', 0, 10),\n",
    "            reg_alpha=trial.suggest_float('reg_alpha', 0, 10),\n",
    "            reg_lambda=trial.suggest_float('reg_lambda', 0, 10),\n",
    "            eval_metric=trial.suggest_categorical('eval_metric', ['error','logloss','auc']),\n",
    "            objective=trial.suggest_categorical('objective', ['binary:logistic']),\n",
    "            scale_pos_weight=trial.suggest_float('scale_pos_weight', 1, 10),\n",
    "            use_label_encoder=False\n",
    "        )\n",
    "        scores = cross_validate(estimator=model, X=X_train, y=Y_train, scoring=make_scorer(f1_score), cv=4)\n",
    "\n",
    "        return np.mean(scores['test_score'])\n",
    "\n",
    "    study = optuna.create_study(direction='maximize', \n",
    "                                sampler=optuna.samplers.TPESampler(seed=RANDOM_STATE),\n",
    "                                pruner=SuccessiveHalvingPruner()\n",
    "                                )\n",
    "    study.optimize(objective, n_trials=1, timeout=None, n_jobs=-1)\n",
    "else:\n",
    "    print('''\n",
    "Количество завершенных испытаний: 500\n",
    "Лучшее испытание завершено на итерации: 315\n",
    "Лучшее значение целевой метрики: 0.9459321284643296\n",
    "''')\n",
    "    mxgb = xgb.XGBClassifier(\n",
    "        random_state=RANDOM_STATE,\n",
    "        #tree_method='gpu_hist', predictor='gpu_predictor',\n",
    "        objective='binary:logistic',\n",
    "        eval_metric='error',\n",
    "        verbosity=0,\n",
    "        n_estimators=1763,\n",
    "        learning_rate=0.08702457495007318,\n",
    "        max_depth=2,\n",
    "        booster='gbtree',\n",
    "        subsample=0.8397164317218464,\n",
    "        colsample_bytree=0.4803252803261486,\n",
    "        gamma=1.9961007893817477,\n",
    "        reg_alpha=2.333615006921788,\n",
    "        reg_lambda=5.371185189500556,\n",
    "        scale_pos_weight=1.3338561366113044,\n",
    "        use_label_encoder=False\n",
    "    )\n",
    "    scores = cross_validate(estimator=mxgb, X=X_train, y=Y_train, scoring=scoring, cv=4)\n",
    "\n",
    "    print('Значение accuracy:', np.round(np.mean(scores['test_accuracy']),3))\n",
    "    print('Значение f1:', np.round(np.mean(scores['test_f1']),3))\n",
    "    print('Значение recall:', np.round(np.mean(scores['test_recall']),3))\n",
    "    print('Значение precision:', np.round(np.mean(scores['test_precision']),3))"
   ]
  },
  {
   "cell_type": "markdown",
   "metadata": {},
   "source": [
    "В ходе исследования возможностей нейросети Bert были испробованны следующие варианты предобученных моделей на 5% выборке:\n",
    "- `bert-base-uncased`\n",
    "- `bert-large-cased`\n",
    "- `DeepPavlov/bert-base-cased-conversational`\n",
    "- `unitary/toxic-bert`\n",
    "\n",
    "Лучшие результаты продемонстрировала модель `unitary/toxic-bert` на модели XGBClassifier (f1: 0.925). В ходе подбора гиперпараметров целеваня метрика была улучшена до f1: 0.946, немного снизив полноту с 0.973 до 0.954, и заметно повысив точность с 0.882 до 0.938."
   ]
  },
  {
   "cell_type": "markdown",
   "metadata": {},
   "source": [
    "### Вывод\n",
    "\n",
    "Лучшие результаты для bag-of-words показывает LogisticRegression со значением f1=0.766. Максимальное количество слов в твитах определено на уровне 87 слов.\n",
    "\n",
    "| Модели классификации       | accuracy |   f1   | recall | precision | fit_time |\n",
    "| -------------------------- | -------- | ------ | ------ | --------- | -------- |\n",
    "| LogisticRegression         | 0.947    | 0.766  | 0.830  | 0.710     | 0.102    |\n",
    "\n",
    "Лучшие результаты для TF-IDF показывает LogisticRegression со значением f1=0.756. Максимальное количество слов в твитах определено на уровне 90 слов.\n",
    "\n",
    "| Модели классификации       | accuracy |   f1   | recall | precision | fit_time |\n",
    "| -------------------------- | -------- | ------ | ------ | --------- | -------- |\n",
    "| LogisticRegression         | 0.943    | 0.756  | 0.846  | 0.683     | 0.053    |\n",
    "\n",
    "Лучшие результаты для предобученной `unitary/toxic-bert` показывает XGBClassifier f1: 0.946\n",
    "\n",
    "| Модели классификации       | accuracy |   f1   | recall | precision | fit_time |\n",
    "| -------------------------- | -------- | ------ | ------ | --------- | -------- |\n",
    "| XGBClassifier              | 0.984    | 0.925  | 0.973  | 0.882     | 0.007    |\n",
    "\n",
    "По результатом безлайнового тестирования, лучшие результаты показала нейросетевая модель `unitary/toxic-bert` на модели XGBClassifier. Подбор гиперпараметров улучшил значение целевой метрики до f1: 0.946, немного снизив полноту с 0.973 до 0.954, и заметно повысив точность с 0.882 до 0.938.\n",
    "___"
   ]
  },
  {
   "cell_type": "markdown",
   "metadata": {},
   "source": [
    "## Тестирование выбранного решения"
   ]
  },
  {
   "cell_type": "code",
   "execution_count": 23,
   "metadata": {
    "scrolled": true
   },
   "outputs": [
    {
     "data": {
      "image/png": "[encoded data removed]",
      "text/plain": [
       "<Figure size 1008x288 with 3 Axes>"
      ]
     },
     "metadata": {
      "needs_background": "light"
     },
     "output_type": "display_data"
    },
    {
     "name": "stdout",
     "output_type": "stream",
     "text": [
      "Значение f1: 0.936\n",
      "Значение recall: 0.944\n",
      "Значение precision: 0.928\n",
      "Значение AUPRC: 0.985\n",
      "\n",
      "Абсолютные значения матрицы путаницы\n"
     ]
    },
    {
     "data": {
      "text/html": [
       "<div>\n",
       "<style scoped>\n",
       "    .dataframe tbody tr th:only-of-type {\n",
       "        vertical-align: middle;\n",
       "    }\n",
       "\n",
       "    .dataframe tbody tr th {\n",
       "        vertical-align: top;\n",
       "    }\n",
       "\n",
       "    .dataframe thead th {\n",
       "        text-align: right;\n",
       "    }\n",
       "</style>\n",
       "<table border=\"1\" class=\"dataframe\">\n",
       "  <thead>\n",
       "    <tr style=\"text-align: right;\">\n",
       "      <th></th>\n",
       "      <th>pred_neg</th>\n",
       "      <th>pred_pos</th>\n",
       "    </tr>\n",
       "  </thead>\n",
       "  <tbody>\n",
       "    <tr>\n",
       "      <th>targ_neg</th>\n",
       "      <td>28149</td>\n",
       "      <td>235</td>\n",
       "    </tr>\n",
       "    <tr>\n",
       "      <th>targ_pos</th>\n",
       "      <td>179</td>\n",
       "      <td>3031</td>\n",
       "    </tr>\n",
       "  </tbody>\n",
       "</table>\n",
       "</div>"
      ],
      "text/plain": [
       "          pred_neg  pred_pos\n",
       "targ_neg     28149       235\n",
       "targ_pos       179      3031"
      ]
     },
     "metadata": {},
     "output_type": "display_data"
    }
   ],
   "source": [
    "mxgb = xgb.XGBClassifier(\n",
    "    random_state=RANDOM_STATE,\n",
    "    #tree_method='gpu_hist', predictor='gpu_predictor',\n",
    "    objective='binary:logistic',\n",
    "    eval_metric='error',\n",
    "    verbosity=0,\n",
    "    n_estimators=1763,\n",
    "    learning_rate=0.08702457495007318,\n",
    "    max_depth=2,\n",
    "    booster='gbtree',\n",
    "    subsample=0.8397164317218464,\n",
    "    colsample_bytree=0.4803252803261486,\n",
    "    gamma=1.9961007893817477,\n",
    "    reg_alpha=2.333615006921788,\n",
    "    reg_lambda=5.371185189500556,\n",
    "    scale_pos_weight=1.3338561366113044,\n",
    "    use_label_encoder=False\n",
    ")\n",
    "mxgb.fit(X_train, Y_train)\n",
    "predict = mxgb.predict(X_test)\n",
    "\n",
    "prob = mxgb.predict_proba(X_test)[:,1]\n",
    "precision, recall, thresholds = precision_recall_curve(Y_test, prob, pos_label=None, sample_weight=None)\n",
    "\n",
    "# Получаем графики и метрики с тестевой выборки\n",
    "_, axs = plt.subplots(nrows=1, ncols=2, figsize=(14, 4))\n",
    "\n",
    "cm = confusion_matrix(Y_test, predict)\n",
    "cm_percent = cm.astype('float') / cm.sum(axis=1)[:, np.newaxis] * 100 # Преобразование матрицы ошибок в проценты\n",
    "sns.heatmap(cm_percent.round(1), annot=True, ax=axs[0]) # Матрица путаницы\n",
    "axs[0].set_title('Матрица путаницы в процентах');\n",
    "axs[0].set(xlabel='Прогнозируемая метрика', ylabel='Истинная метка')\n",
    "\n",
    "axs[1].plot(recall, precision) # AUPRC-кривая\n",
    "axs[1].set_title(f'Precision-Recall кривая, AUPRC={average_precision_score(Y_test, prob).round(3)}');\n",
    "axs[1].set(xlabel='recall', ylabel='precision')\n",
    "axs[1].set_xlim(xmin=0, xmax=1)\n",
    "axs[1].set_ylim(ymin=0, ymax=1)\n",
    "plt.show()\n",
    "\n",
    "print('Значение f1:', np.round(f1_score(Y_test, predict),3))\n",
    "print('Значение recall:', np.round(recall_score(Y_test, predict),3))\n",
    "print('Значение precision:', np.round(precision_score(Y_test, predict),3))\n",
    "print('Значение AUPRC:', np.round(np.mean(average_precision_score(Y_test, prob)),3))\n",
    "print('\\nАбсолютные значения матрицы путаницы')\n",
    "display(pd.DataFrame(cm, columns=['pred_neg','pred_pos'], index=['targ_neg','targ_pos']))"
   ]
  },
  {
   "cell_type": "markdown",
   "metadata": {},
   "source": [
    "В ходе тестирования наиболее удачного подхода классификации текста на позитивные и негативные варианта, получено слабое снижение целевой метрики f1 с 0,946 до 0,937, что значительно выше установленного минимального предела оценки в 0,75. Можно отметить очень высокое значение метрики AUPRC=0.985, а также очень малую долю ошибок классификации негативного класса (0,8%), и низкую ошибку в классификации позитивного класса 5,4%.\n",
    "\n",
    "___"
   ]
  },
  {
   "cell_type": "markdown",
   "metadata": {},
   "source": [
    "## Общие выводы\n",
    "\n",
    "**1. Загрузка и первичный осмотр данных.** Исследуемые данные состоят из одной таблицы, которая включает два столбца с собственно самим коротким сообщением (в количестве 159292 шт) и его эмоциональной оценкой. Все текстовые сообщения имеют уникальный состав, а эмоциональная оценка имеет бинарную природу 0 или 1. Собственно эмоциональная оценка имеет неравномерное распределение классов (1 - 11,3%, 0 - 88,7%), в соотношении 1 негативный класс к 8,8 позитивным классам.\n",
    "<!-- Отступ между разделами -->\n",
    "**2. Предварительная обработка данных.** Очистка текста от посторонних символов и удаление стоп-слов сокрадила медианную длинну твитов на 50% (с 36 до 18 слов). Лемматизация и очистка дубликатов сократило исследуеммый набор данных на 1932 наблюдений, которые, вероятней всего, будут нести схожую смысловую нагрузку. Так же удалены наблюдения с нулевым количеством слов.\n",
    "<!-- Отступ между разделами -->\n",
    "**3. Исследовательский анализ.** \n",
    "    <p style=\"text-indent: 40px;\">\n",
    "    - Оценка центрального положения выборки показывает, что среднее значением 34,9 сильно больше медианного 18. Снизив влияние выбросов, рассчитав среднее усечённое значение (отсечение 10%), получаем смещение рассчитанного значения среднего сильно ближе к медианному. Оценка вариабельности выборки показывает сильное отличие размаха диапазона значений хвостов выборки 25%-min=8 и max-75%=1212 что свидетельствует о сильной правосторонней асимметрии наблюдаемого распределения. Размах выборки в 43 раза больше интерквантильного размаха, что говорит о наличии значительных выбросов, что также подтверждает сильное превышение стандартного отклонения над средним значением, и отличие в двое стандартного отклонения от стандартного отклонения по усечённой средней. Из выше сказанного очевидно, что корректировка количества наблюдаемых выбросов поможет улучшить результаты работы ML.\n",
    "    <p style=\"text-indent: 40px;\">\n",
    "    - В исследуемом наборе текстов обнаружено чуть менее 5,5 мил. слов и 158К из них уникальны. Исследуя частоту встречаемости слов в тексте, более 81К имеют частоту равную одному и явно не годятся для классификации, поскольку вероятность встречи каждого из их крайне мала (1/5,5 мил.). Очистка подобных слов сокращает признаковое пространство на 51,3% при этом общее количество слов снижается на 1,9%, что не должно сказаться негативно на качестве обучения ML и должно повысить его эффективность.\n",
    "<!-- Отступ между разделами -->\n",
    "**4. Обучение моделей.** Результаты безлайнового тестирования показывает лучшие результаты с предобученной нейросетью `unitary/toxic-bert` на модели XGBClassifier (f1: 0.925). Подбор гиперпараметров улучшил значение целевой метрики до f1: 0.946, немного снизив полноту с 0.973 до 0.954, и заметно повысив точность с 0.882 до 0.938. Хорошие но значительно более слабые результаты показывают подходы с bag-of-words и TF-IDF с LogisticRegression, дающие значения целевой метрики f1: 0.760/0.756, и требующие значительно более качественной подготовки текста, чем нейронная сеть.\n",
    "<!-- Отступ между разделами -->\n",
    "**5. Тестирование выбранного решения.** В ходе тестирования наиболее удачного подхода классификации текста на позитивные и негативные варианта, получено слабое снижение целевой метрики f1 с 0,946 до 0,937, что значительно выше установленного минимального предела оценки в 0,75. Можно отметить очень высокое значение метрики AUPRC=0.985, а также очень малую долю ошибок классификации негативного класса (0,8%), и низкую ошибку в классификации позитивного класса 5,4%."
   ]
  }
 ],
 "metadata": {
  "ExecuteTimeLog": [
   {
    "duration": 1395,
    "start_time": "2024-01-25T13:40:51.114Z"
   },
   {
    "duration": 0,
    "start_time": "2024-01-25T13:40:52.510Z"
   },
   {
    "duration": 0,
    "start_time": "2024-01-25T13:40:52.512Z"
   },
   {
    "duration": 0,
    "start_time": "2024-01-25T13:40:52.512Z"
   },
   {
    "duration": 10,
    "start_time": "2024-01-25T13:42:18.779Z"
   },
   {
    "duration": 10521,
    "start_time": "2024-01-25T13:42:47.764Z"
   },
   {
    "duration": 3353,
    "start_time": "2024-01-25T13:43:05.164Z"
   },
   {
    "duration": 283,
    "start_time": "2024-01-25T13:43:17.263Z"
   },
   {
    "duration": 4,
    "start_time": "2024-01-25T13:44:29.931Z"
   },
   {
    "duration": 8,
    "start_time": "2024-01-25T13:44:52.299Z"
   },
   {
    "duration": 5,
    "start_time": "2024-01-25T13:46:00.763Z"
   },
   {
    "duration": 4,
    "start_time": "2024-01-25T13:46:04.078Z"
   },
   {
    "duration": 9,
    "start_time": "2024-01-25T13:46:35.472Z"
   },
   {
    "duration": 487,
    "start_time": "2024-01-25T14:01:20.865Z"
   },
   {
    "duration": 13098,
    "start_time": "2024-01-25T14:01:43.409Z"
   },
   {
    "duration": 9,
    "start_time": "2024-01-25T14:01:56.509Z"
   },
   {
    "duration": 4829,
    "start_time": "2024-01-25T14:01:56.520Z"
   },
   {
    "duration": 310,
    "start_time": "2024-01-25T14:02:01.350Z"
   },
   {
    "duration": 7134,
    "start_time": "2024-01-25T14:02:01.665Z"
   },
   {
    "duration": 193,
    "start_time": "2024-01-25T14:02:13.362Z"
   },
   {
    "duration": 72851,
    "start_time": "2024-01-25T14:02:19.339Z"
   },
   {
    "duration": 631,
    "start_time": "2024-01-25T14:03:46.528Z"
   },
   {
    "duration": 413,
    "start_time": "2024-01-25T14:03:49.771Z"
   },
   {
    "duration": 2738,
    "start_time": "2024-01-25T14:03:53.636Z"
   },
   {
    "duration": 8549,
    "start_time": "2024-01-25T14:03:58.141Z"
   },
   {
    "duration": 84612,
    "start_time": "2024-01-25T14:04:17.798Z"
   },
   {
    "duration": 8247,
    "start_time": "2024-01-25T14:05:49.689Z"
   },
   {
    "duration": 4,
    "start_time": "2024-01-25T14:06:06.622Z"
   },
   {
    "duration": 4075,
    "start_time": "2024-01-25T14:07:58.085Z"
   },
   {
    "duration": 408,
    "start_time": "2024-01-25T14:08:10.198Z"
   },
   {
    "duration": 4,
    "start_time": "2024-01-25T14:08:25.837Z"
   },
   {
    "duration": 6,
    "start_time": "2024-01-25T14:08:29.974Z"
   },
   {
    "duration": 0,
    "start_time": "2024-01-25T14:12:25.872Z"
   },
   {
    "duration": 603,
    "start_time": "2024-01-25T14:13:02.672Z"
   },
   {
    "duration": 7398,
    "start_time": "2024-01-25T14:13:09.566Z"
   },
   {
    "duration": 1459,
    "start_time": "2024-01-25T15:55:20.345Z"
   },
   {
    "duration": 1428,
    "start_time": "2024-01-25T15:55:32.714Z"
   },
   {
    "duration": 1490,
    "start_time": "2024-01-25T19:05:43.196Z"
   },
   {
    "duration": 3723,
    "start_time": "2024-01-25T19:06:07.784Z"
   },
   {
    "duration": 2485,
    "start_time": "2024-01-25T19:06:15.998Z"
   },
   {
    "duration": 12,
    "start_time": "2024-01-25T19:07:20.270Z"
   },
   {
    "duration": 53,
    "start_time": "2024-01-25T19:09:13.369Z"
   },
   {
    "duration": 7,
    "start_time": "2024-01-25T19:09:16.383Z"
   },
   {
    "duration": 2512,
    "start_time": "2024-01-25T19:10:03.714Z"
   },
   {
    "duration": 48,
    "start_time": "2024-01-25T19:10:11.283Z"
   },
   {
    "duration": 3295,
    "start_time": "2024-01-25T19:10:13.995Z"
   },
   {
    "duration": 19,
    "start_time": "2024-01-25T19:10:22.357Z"
   },
   {
    "duration": 3669,
    "start_time": "2024-01-25T19:10:30.241Z"
   },
   {
    "duration": 288,
    "start_time": "2024-01-25T19:12:58.409Z"
   },
   {
    "duration": 222,
    "start_time": "2024-01-25T19:13:42.038Z"
   },
   {
    "duration": 3513,
    "start_time": "2024-01-27T06:35:07.536Z"
   },
   {
    "duration": 37,
    "start_time": "2024-01-27T06:35:11.051Z"
   },
   {
    "duration": 3774,
    "start_time": "2024-01-27T06:35:11.092Z"
   },
   {
    "duration": 10,
    "start_time": "2024-01-27T06:35:14.868Z"
   },
   {
    "duration": 3620,
    "start_time": "2024-01-27T06:35:14.879Z"
   },
   {
    "duration": 292,
    "start_time": "2024-01-27T06:35:18.500Z"
   },
   {
    "duration": 6709,
    "start_time": "2024-01-27T06:35:18.793Z"
   },
   {
    "duration": 357118,
    "start_time": "2024-01-27T06:35:25.503Z"
   },
   {
    "duration": 575,
    "start_time": "2024-01-27T06:41:22.622Z"
   },
   {
    "duration": 391,
    "start_time": "2024-01-27T06:41:23.198Z"
   },
   {
    "duration": 2288,
    "start_time": "2024-01-27T06:41:23.591Z"
   },
   {
    "duration": 8464,
    "start_time": "2024-01-27T06:41:25.881Z"
   },
   {
    "duration": 4,
    "start_time": "2024-01-27T06:41:34.347Z"
   },
   {
    "duration": 14,
    "start_time": "2024-01-27T06:41:34.353Z"
   },
   {
    "duration": 109,
    "start_time": "2024-01-27T06:41:34.368Z"
   },
   {
    "duration": 6,
    "start_time": "2024-01-27T06:41:34.479Z"
   },
   {
    "duration": 119,
    "start_time": "2024-01-27T06:41:34.487Z"
   },
   {
    "duration": 4,
    "start_time": "2024-01-27T06:41:34.608Z"
   },
   {
    "duration": 7855,
    "start_time": "2024-01-27T06:41:34.614Z"
   },
   {
    "duration": 2944,
    "start_time": "2024-01-27T06:41:42.470Z"
   },
   {
    "duration": 58,
    "start_time": "2024-01-27T06:41:45.415Z"
   },
   {
    "duration": 294,
    "start_time": "2024-01-27T06:41:45.474Z"
   },
   {
    "duration": 263,
    "start_time": "2024-01-27T06:41:45.769Z"
   },
   {
    "duration": 2302,
    "start_time": "2024-01-27T06:54:02.150Z"
   },
   {
    "duration": 39,
    "start_time": "2024-01-27T06:54:04.455Z"
   },
   {
    "duration": 3033,
    "start_time": "2024-01-27T06:54:04.495Z"
   },
   {
    "duration": 8,
    "start_time": "2024-01-27T06:54:07.530Z"
   },
   {
    "duration": 3274,
    "start_time": "2024-01-27T06:54:07.540Z"
   },
   {
    "duration": 267,
    "start_time": "2024-01-27T06:54:10.815Z"
   },
   {
    "duration": 6748,
    "start_time": "2024-01-27T06:54:11.083Z"
   },
   {
    "duration": 357821,
    "start_time": "2024-01-27T06:54:17.833Z"
   },
   {
    "duration": 599,
    "start_time": "2024-01-27T07:00:15.665Z"
   },
   {
    "duration": 384,
    "start_time": "2024-01-27T07:00:16.265Z"
   },
   {
    "duration": 2262,
    "start_time": "2024-01-27T07:00:16.651Z"
   },
   {
    "duration": 18873,
    "start_time": "2024-01-27T07:00:18.916Z"
   },
   {
    "duration": 5,
    "start_time": "2024-01-27T07:00:37.791Z"
   },
   {
    "duration": 8,
    "start_time": "2024-01-27T07:00:37.799Z"
   },
   {
    "duration": 110,
    "start_time": "2024-01-27T07:00:37.809Z"
   },
   {
    "duration": 6,
    "start_time": "2024-01-27T07:00:37.921Z"
   },
   {
    "duration": 136,
    "start_time": "2024-01-27T07:00:37.929Z"
   },
   {
    "duration": 4,
    "start_time": "2024-01-27T07:00:38.067Z"
   },
   {
    "duration": 9228,
    "start_time": "2024-01-27T07:00:38.073Z"
   },
   {
    "duration": 2437,
    "start_time": "2024-01-27T07:00:47.303Z"
   },
   {
    "duration": 65,
    "start_time": "2024-01-27T07:00:49.742Z"
   },
   {
    "duration": 895290,
    "start_time": "2024-01-27T07:00:49.809Z"
   },
   {
    "duration": 235268,
    "start_time": "2024-01-27T07:15:45.101Z"
   }
  ],
  "kernelspec": {
   "display_name": "Python 3 (ipykernel)",
   "language": "python",
   "name": "python3"
  },
  "language_info": {
   "codemirror_mode": {
    "name": "ipython",
    "version": 3
   },
   "file_extension": ".py",
   "mimetype": "text/x-python",
   "name": "python",
   "nbconvert_exporter": "python",
   "pygments_lexer": "ipython3",
   "version": "3.9.5"
  },
  "toc": {
   "base_numbering": 1,
   "nav_menu": {},
   "number_sections": true,
   "sideBar": true,
   "skip_h1_title": true,
   "title_cell": "Table of Contents",
   "title_sidebar": "Contents",
   "toc_cell": false,
   "toc_position": {},
   "toc_section_display": true,
   "toc_window_display": false
  }
 },
 "nbformat": 4,
 "nbformat_minor": 2
}
